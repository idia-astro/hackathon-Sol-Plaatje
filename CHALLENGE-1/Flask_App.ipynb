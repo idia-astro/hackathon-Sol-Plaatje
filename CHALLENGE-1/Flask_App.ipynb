{
 "cells": [
  {
   "cell_type": "code",
   "execution_count": 1,
   "metadata": {},
   "outputs": [],
   "source": [
    "from flask import Flask, request, render_template\n",
    "import pickle\n",
    "import pandas as pd\n",
    "from random import randint"
   ]
  },
  {
   "cell_type": "code",
   "execution_count": 2,
   "metadata": {},
   "outputs": [],
   "source": [
    "# initilise Flask\n",
    "app = Flask(__name__)"
   ]
  },
  {
   "cell_type": "code",
   "execution_count": 3,
   "metadata": {},
   "outputs": [],
   "source": [
    "@app.route('/') # the webpage link/extension\n",
    "def main():\n",
    "    return render_template('home.html') # call to the html template named \"home.html\""
   ]
  },
  {
   "cell_type": "code",
   "execution_count": 4,
   "metadata": {},
   "outputs": [],
   "source": [
    "@app.route('/about')\n",
    "def about():\n",
    "\treturn render_template('about.html')"
   ]
  },
  {
   "cell_type": "code",
   "execution_count": 5,
   "metadata": {},
   "outputs": [],
   "source": [
    "@app.route('/similarByName',methods=['POST'])\n",
    "def similar_by_name():\n",
    "\t# the main pythin code\n",
    "\tdf = pd.read_csv('tmb_movies_clean.csv')\n",
    "\tif request.method == 'POST':\n",
    "\t\tresult = request.form\n",
    "\tquery = result['name']\n",
    "\tn = 0\n",
    "\tmovie_list = []\n",
    "\tprint('Movies with the words \"{}\" in the title:'.format(query))\n",
    "\tfor i, name in enumerate(df.original_title):\n",
    "\t\tif query.lower() in name.lower():\n",
    "\t\t\tinfo = {\n",
    "\t\t\t\t\"name\": df['original_title'][i],\n",
    "\t\t\t\t\"rating\": df['popularity'][i],\n",
    "\t\t\t\t\"genre\": df['genres'][i]\n",
    "\t\t\t}\n",
    "\t\t\tmovie_list.append(info)\n",
    "\t\t\tn+=1\n",
    "\treturn render_template(\"similar.html\",\n",
    "\t\t\t\t\t\t   title='Name',\n",
    "\t\t\t\t\t\t   name=query,\n",
    "\t\t\t\t\t\t   topmovies=movie_list)"
   ]
  },
  {
   "cell_type": "code",
   "execution_count": 6,
   "metadata": {},
   "outputs": [],
   "source": [
    "@app.route('/similarByContent',methods=['POST'])\n",
    "def similar_by_content():\n",
    "\tdf = pd.read_csv('tmb_movies_clean.csv')\n",
    "\tif request.method == 'POST':\n",
    "\t\tresult = request.form\n",
    "\tquery = result['name']\n",
    "\n",
    "\t#load the model file\n",
    "\tpkl_file = open('movieindices.pkl', 'rb')\n",
    "\tindices = pickle.load(pkl_file)\n",
    "\tif query not in df['original_title']:\n",
    "\t\tN = df[df['original_title'] == query].index[0]\n",
    "\t\tmovie_list = []\n",
    "\t\tfor n in indices[N][1:]:\n",
    "\t\t\tinfo = {\n",
    "\t\t\t\t\"name\": df['original_title'][n],\n",
    "\t\t\t\t\"rating\": df['popularity'][n],\n",
    "\t\t\t\t\"genre\": df['genres'][n]\n",
    "\t\t\t}\n",
    "\t\t\tmovie_list.append(info)\n",
    "\n",
    "\t\treturn render_template(\"similar.html\",\n",
    "\t\t\t\t\t\t   title='Content',\n",
    "\t\t\t\t\t\t   name=query,\n",
    "\t\t\t\t\t\t   topmovies=movie_list)"
   ]
  },
  {
   "cell_type": "code",
   "execution_count": 7,
   "metadata": {},
   "outputs": [],
   "source": [
    "@app.route('/random',methods=['GET', 'POST'])\n",
    "def random():\n",
    "\tdf = pd.read_csv('tmb_movies_clean.csv')\n",
    "\tif request.method == 'POST':\n",
    "\t\tR = randint(0,len(df)-1)\n",
    "\t\trand_movie = df.iloc[R]\n",
    "\telse:\n",
    "\t\tR = randint(0,len(df)-1)\n",
    "\t\trand_movie = df.iloc[R]\n",
    "\n",
    "\treturn render_template('ratings.html',\n",
    "\t\t\tname = rand_movie['original_title'],\n",
    "\t\t\tgenre = rand_movie['genres'],\n",
    "\t\t\tratings = rand_movie['popularity'])"
   ]
  },
  {
   "cell_type": "markdown",
   "metadata": {},
   "source": [
    "Here's where we actually launch the app.\n",
    "\n",
    "You might need to change your port number. The allowed values are 5000 - 5010.\n",
    "\n",
    "Once it's launched you can view it by opening: http://dave18.cyberska.org:5000/ in your browser (again remember to update the port number if necessary)"
   ]
  },
  {
   "cell_type": "code",
   "execution_count": 8,
   "metadata": {},
   "outputs": [
    {
     "name": "stdout",
     "output_type": "stream",
     "text": [
      " * Serving Flask app \"__main__\" (lazy loading)\n",
      " * Environment: production\n",
      "   WARNING: Do not use the development server in a production environment.\n",
      "   Use a production WSGI server instead.\n",
      " * Debug mode: off\n"
     ]
    },
    {
     "name": "stderr",
     "output_type": "stream",
     "text": [
      " * Running on http://127.0.0.1:5000/ (Press CTRL+C to quit)\n",
      "127.0.0.1 - - [02/Nov/2018 03:21:56] \"\u001b[37mGET / HTTP/1.1\u001b[0m\" 200 -\n"
     ]
    }
   ],
   "source": [
    "app.run(host='0.0.0.0',port=5000)"
   ]
  },
  {
   "cell_type": "code",
   "execution_count": null,
   "metadata": {},
   "outputs": [],
   "source": []
  }
 ],
 "metadata": {
  "kernelspec": {
   "display_name": "Python 3",
   "language": "python",
   "name": "python3"
  },
  "language_info": {
   "codemirror_mode": {
    "name": "ipython",
    "version": 3
   },
   "file_extension": ".py",
   "mimetype": "text/x-python",
   "name": "python",
   "nbconvert_exporter": "python",
   "pygments_lexer": "ipython3",
   "version": "3.6.7"
  }
 },
 "nbformat": 4,
 "nbformat_minor": 2
}
